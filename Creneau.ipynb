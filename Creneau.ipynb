{
 "cells": [
  {
   "cell_type": "code",
   "execution_count": 1,
   "metadata": {},
   "outputs": [
    {
     "name": "stdout",
     "output_type": "stream",
     "text": [
      "torch loaded; device is cpu\n"
     ]
    }
   ],
   "source": [
    "import os\n",
    "\n",
    "\n",
    "import torch\n",
    "import torch.nn as nn\n",
    "from torch.autograd import Variable\n",
    "\n",
    "try:\n",
    "    import torchinfo\n",
    "    no_torchinfo = False\n",
    "except ModuleNotFoundError:\n",
    "    no_torchinfo = True\n",
    "\n",
    "device = torch.device(\"cuda\" if torch.cuda.is_available() else \"cpu\")\n",
    "print(f\"torch loaded; device is {device}\")\n",
    "import matplotlib.pyplot as plt\n",
    "import numpy as np\n",
    "from matplotlib.animation import FuncAnimation\n",
    "from IPython.display import HTML"
   ]
  },
  {
   "cell_type": "code",
   "execution_count": 2,
   "metadata": {},
   "outputs": [],
   "source": [
    "class Net(nn.Module):\n",
    "\n",
    "    \"\"\"Defines the neural network model\"\"\"\n",
    "    def __init__(self):\n",
    "\n",
    "        super(Net, self).__init__()\n",
    "        self.hidden_layer1 = nn.Linear(4, 30).double()\n",
    "        self.hidden_layer2 = nn.Linear(30, 30).double()\n",
    "        self.hidden_layer3 = nn.Linear(30, 30).double()\n",
    "        self.hidden_layer4 = nn.Linear(30, 10).double()\n",
    "        self.hidden_layer5 = nn.Linear(10, 5).double()\n",
    "        self.output_layer = nn.Linear(5, 1).double()\n",
    "\n",
    "    \"\"\"Defines the sequence of operations that are applied to the input tensors to produce the output of the neural network\"\"\"\n",
    "    def forward(self, x, t, mean, variance):\n",
    "\n",
    "        inputs = torch.cat([x,t,mean,variance], axis=1)\n",
    "        layer1_out = torch.tanh(self.hidden_layer1(inputs))\n",
    "        layer2_out = torch.tanh(self.hidden_layer2(layer1_out))\n",
    "        layer3_out = torch.tanh(self.hidden_layer3(layer2_out))\n",
    "        layer4_out = torch.tanh(self.hidden_layer4(layer3_out))\n",
    "        layer5_out = torch.tanh(self.hidden_layer5(layer4_out))\n",
    "        output = self.output_layer(layer5_out)\n",
    "        return output\n",
    "\n",
    "# def network_BC(t): #t to define u_theta\n",
    "#     return t"
   ]
  },
  {
   "cell_type": "code",
   "execution_count": 3,
   "metadata": {},
   "outputs": [],
   "source": [
    "class Discontinuity(torch.nn.Module):\n",
    "    def __init__(self, a=1):\n",
    "\n",
    "        super().__init__()\n",
    "        self.c1 = torch.nn.Parameter(torch.randn(())) #pour que cela reste entre 0 et 1\n",
    "        self.c2 = torch.nn.Parameter(torch.randn(()))\n",
    "        self.c3 = torch.nn.Parameter(torch.randn(()))\n",
    "        self.c4 = torch.nn.Parameter(torch.randn(()))\n",
    "        self.b = torch.nn.Parameter(torch.randn(()))\n",
    "        self.sparse_layer=False\n",
    "\n",
    "    def x(self, t, x_0):\n",
    "\n",
    "        return x_0 + self.c4 * t\n",
    "    \n",
    "    def forward(self, x, t ):\n",
    "\n",
    "        x_t = self.x(t, x_0=0.5) #x_O c'est la position la discontinuité a gauche du creneau\n",
    "\n",
    "        i1 = torch.where((0 <= x) & (x <= x_t), torch.tensor(1.0), torch.tensor(0.0))\n",
    "        i2 = torch.where((x_t < x) & (x <= x_t + self.b), torch.tensor(1.0), torch.tensor(0.0))\n",
    "        i3 = torch.where((x < x_t+self.b) & (x<= torch.tensor(1.0)), torch.tensor(1.0), torch.tensor(0.0))\n",
    "        \n",
    "        return  self.c1 * i1 + self.c2 * i2 + self.c3 * i3\n"
   ]
  },
  {
   "cell_type": "code",
   "execution_count": 4,
   "metadata": {},
   "outputs": [],
   "source": [
    "class Trigo2(torch.nn.Module):\n",
    "    def __init__(self,mu=0.0,sigma=1.0):\n",
    "        \"\"\"\n",
    "        In the constructor we instantiate four parameters and assign them as\n",
    "        member parameters.\n",
    "        \"\"\"\n",
    "        super().__init__()\n",
    "        self.a1 = torch.nn.Parameter(torch.randn(())*sigma+mu)\n",
    "        self.b1 = torch.nn.Parameter(torch.randn(())*sigma+mu)\n",
    "        self.c1 = torch.nn.Parameter(torch.randn(())*sigma+mu)\n",
    "        self.sparse_layer=False\n",
    "\n",
    "    def forward(self, x):\n",
    "        \"\"\"\n",
    "        In the forward function we accept a Tensor of input data and we must return\n",
    "        a Tensor of output data. We can use Modules defined in the constructor as\n",
    "        well as arbitrary operators on Tensors.\n",
    "        \"\"\"\n",
    "        return torch.sin(self.a1*x) + self.c1*torch.cos(self.b1*x)\n",
    "\n",
    "    def string(self):\n",
    "        \"\"\"\n",
    "        Just like any class in Python, you can also define custom method on PyTorch modules\n",
    "        \"\"\"\n",
    "        return f'y = sin({self.a1.item()}x) + {self.c1.item()}cos({self.b1.item()} x)'"
   ]
  }
 ],
 "metadata": {
  "kernelspec": {
   "display_name": "Python 3",
   "language": "python",
   "name": "python3"
  },
  "language_info": {
   "codemirror_mode": {
    "name": "ipython",
    "version": 3
   },
   "file_extension": ".py",
   "mimetype": "text/x-python",
   "name": "python",
   "nbconvert_exporter": "python",
   "pygments_lexer": "ipython3",
   "version": "3.10.6"
  },
  "orig_nbformat": 4
 },
 "nbformat": 4,
 "nbformat_minor": 2
}
