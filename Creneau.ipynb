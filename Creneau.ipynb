{
 "cells": [
  {
   "cell_type": "code",
   "execution_count": 85,
   "metadata": {},
   "outputs": [
    {
     "name": "stdout",
     "output_type": "stream",
     "text": [
      "torch loaded; device is cpu\n"
     ]
    }
   ],
   "source": [
    "import os\n",
    "\n",
    "\n",
    "import torch\n",
    "import torch.nn as nn\n",
    "from torch.autograd import Variable\n",
    "\n",
    "try:\n",
    "    import torchinfo\n",
    "    no_torchinfo = False\n",
    "except ModuleNotFoundError:\n",
    "    no_torchinfo = True\n",
    "\n",
    "device = torch.device(\"cuda\" if torch.cuda.is_available() else \"cpu\")\n",
    "print(f\"torch loaded; device is {device}\")\n",
    "import matplotlib.pyplot as plt\n",
    "import numpy as np\n",
    "from matplotlib.animation import FuncAnimation\n",
    "from IPython.display import HTML"
   ]
  },
  {
   "cell_type": "code",
   "execution_count": 86,
   "metadata": {},
   "outputs": [],
   "source": [
    "class Discontinuity(torch.nn.Module):\n",
    "    def __init__(self, a=0.5):\n",
    "\n",
    "        super().__init__()\n",
    "        #Model parameters\n",
    "        self.c1 = torch.nn.Parameter(torch.randn(()))\n",
    "        self.c2 = torch.nn.Parameter(torch.randn(()))\n",
    "        self.c3 = torch.nn.Parameter(torch.randn(()))\n",
    "        self.c4 = torch.nn.Parameter(torch.randn(()))\n",
    "        self.b = torch.nn.Parameter(torch.randn(()))\n",
    "        self.sparse_layer=False\n",
    "\n",
    "    def x(self, t):\n",
    "\n",
    "        x_0 = torch.tensor(0.5) #? \n",
    "        return x_0 + self.c4 * t\n",
    "    \n",
    "    def forward(self, x, t):\n",
    "        \n",
    "        x_t = self.x(t)\n",
    "\n",
    "        i1 = torch.where((0 <= x) & (x <= x_t), torch.tensor(1.0), torch.tensor(0.0))\n",
    "        i2 = torch.where((x_t < x) & (x <= x_t + self.b), torch.tensor(1.0), torch.tensor(0.0))\n",
    "        i3 = torch.where((x < x_t+self.b) & (x<= torch.tensor(1.0)), torch.tensor(1.0), torch.tensor(0.0))\n",
    "        \n",
    "        return  self.c1 * i1 + self.c2 * i2 + self.c3 * i3\n"
   ]
  },
  {
   "cell_type": "code",
   "execution_count": 87,
   "metadata": {},
   "outputs": [
    {
     "name": "stdout",
     "output_type": "stream",
     "text": [
      "Output: [0.6031088 1.6752906 1.6752906 0.        0.       ]\n"
     ]
    }
   ],
   "source": [
    "discontinuity_model = Discontinuity()\n",
    "\n",
    "#We define the input values\n",
    "x_input = torch.tensor([0.2, 0.6, 0.8, 0.9, 1.0])\n",
    "t_input = torch.tensor([0.0, 0.1, 0.2, 0.3, 0.4])\n",
    "\n",
    "\n",
    "output = discontinuity_model(x_input, t_input)\n",
    "\n",
    "print(\"Output:\", output.detach().numpy())"
   ]
  }
 ],
 "metadata": {
  "kernelspec": {
   "display_name": "Python 3",
   "language": "python",
   "name": "python3"
  },
  "language_info": {
   "codemirror_mode": {
    "name": "ipython",
    "version": 3
   },
   "file_extension": ".py",
   "mimetype": "text/x-python",
   "name": "python",
   "nbconvert_exporter": "python",
   "pygments_lexer": "ipython3",
   "version": "3.10.6"
  },
  "orig_nbformat": 4
 },
 "nbformat": 4,
 "nbformat_minor": 2
}
